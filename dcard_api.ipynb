{
  "nbformat": 4,
  "nbformat_minor": 0,
  "metadata": {
    "kernelspec": {
      "display_name": "Python 3",
      "language": "python",
      "name": "python3"
    },
    "language_info": {
      "codemirror_mode": {
        "name": "ipython",
        "version": 3
      },
      "file_extension": ".py",
      "mimetype": "text/x-python",
      "name": "python",
      "nbconvert_exporter": "python",
      "pygments_lexer": "ipython3",
      "version": "3.8.5"
    },
    "colab": {
      "name": "dcard_api.ipynb",
      "provenance": [],
      "toc_visible": true,
      "include_colab_link": true
    }
  },
  "cells": [
    {
      "cell_type": "markdown",
      "metadata": {
        "id": "view-in-github",
        "colab_type": "text"
      },
      "source": [
        "<a href=\"https://colab.research.google.com/github/LIAO-JIAN-PENG/python_lecture/blob/main/dcard_api.ipynb\" target=\"_parent\"><img src=\"https://colab.research.google.com/assets/colab-badge.svg\" alt=\"Open In Colab\"/></a>"
      ]
    },
    {
      "cell_type": "markdown",
      "metadata": {
        "id": "eKvUoAiOFRgz"
      },
      "source": [
        "## Dcard API 使用\n",
        "\n",
        "* API 網址：```https://www.dcard.tw/service/api/v2```\n",
        "* 舊版 API 網址：```https://www.dcard.tw/_api```\n",
        "\n",
        "說明\t|請求方法\t|路徑\n",
        "---|---|---\n",
        "全部文章|\tGET\t|/posts\n",
        "看板資訊\t|GET\t|/forums\n",
        "看板內文章列表\t|GET\t|/forums/{看板名稱}/posts\n",
        "文章內文\t|GET\t|/posts/{文章ID}\n",
        "文章內引用連結\t|GET\t|/posts/{文章ID}/links\n",
        "文章內留言\t|GET\t|/posts/{文章ID}/comments\n",
        "\n",
        "## 全部文章(不分類等於首頁)\n",
        "```GET https://www.dcard.tw/service/api/v2/posts```\n",
        "* 回傳的文章數量預設是前 30 筆，加上limit參數來限制文章數量，最多 100 筆，如下：\n",
        "熱門文章前 100 筆 -> ```https://www.dcard.tw/service/api/v2/posts?popular=true&limit=100```\n",
        "\n",
        "## 最新 & 熱門\n",
        "* 預設使用 \"最新\" 作為排序，透過popular參數可以切換 \"最新\" 與 \"熱門\"，如下：\n",
        "    - 最新文章 -> ```https://www.dcard.tw/service/api/v2/posts?popular=false```\n",
        "    - 熱門文章 -> ```https://www.dcard.tw/service/api/v2/posts?popular=true```\n",
        "    \n",
        "## 看板資訊\n",
        "```GET https://www.dcard.tw/service/api/v2/forums```\n",
        "\n",
        "## 看板內文章列表\n",
        "```GET https://www.dcard.tw/service/api/v2/forums/{看板名稱}/posts```\n",
        "\n",
        "* [參考資料](https://blog.jiatool.com/posts/dcard_api_v2/)"
      ]
    },
    {
      "cell_type": "code",
      "metadata": {
        "id": "nsbz01_eFRg3"
      },
      "source": [
        "import requests\n",
        "import re"
      ],
      "execution_count": null,
      "outputs": []
    },
    {
      "cell_type": "markdown",
      "metadata": {
        "id": "YdTjzms6FRg4"
      },
      "source": [
        "## 首頁練習"
      ]
    },
    {
      "cell_type": "code",
      "metadata": {
        "colab": {
          "base_uri": "https://localhost:8080/"
        },
        "id": "Trqz3yzjFRg4",
        "outputId": "8b7dee82-38d7-4036-becd-0622ede8722f"
      },
      "source": [
        "# 使用 dcard api 直接拿到 json 的檔案，不需要自己爬\n",
        "# 切記 : 要用 headers 偽裝\n",
        "headers = {\n",
        "    'user-agent': 'Mozilla/5.0 (Windows NT 10.0; Win64; x64) AppleWebKit/537.36 (KHTML, like Gecko) Chrome/87.0.4280.141 Safari/537.36'\n",
        "}\n",
        "url = 'https://www.dcard.tw/_api/posts'\n",
        "\n",
        "requ = requests.get(url, headers=headers)\n",
        "\n",
        "requ # status code"
      ],
      "execution_count": null,
      "outputs": [
        {
          "output_type": "execute_result",
          "data": {
            "text/plain": [
              "<Response [200]>"
            ]
          },
          "metadata": {
            "tags": []
          },
          "execution_count": 10
        }
      ]
    },
    {
      "cell_type": "code",
      "metadata": {
        "colab": {
          "base_uri": "https://localhost:8080/"
        },
        "id": "w6beLimvF4Pm",
        "outputId": "08be2138-a79c-47d8-a950-4be5f70175f4"
      },
      "source": [
        "# 連結google drive\r\n",
        "from google.colab import drive\r\n",
        "drive.mount('/content/drive')"
      ],
      "execution_count": null,
      "outputs": [
        {
          "output_type": "stream",
          "text": [
            "Mounted at /content/drive\n"
          ],
          "name": "stdout"
        }
      ]
    },
    {
      "cell_type": "code",
      "metadata": {
        "id": "TvbotO7JGjnb"
      },
      "source": [
        "import os\r\n",
        "if not os.path.exists(r'/content/drive/MyDrive/PuiPui'):\r\n",
        "    os.mkdir(r'/content/drive/MyDrive/PuiPui')"
      ],
      "execution_count": null,
      "outputs": []
    },
    {
      "cell_type": "code",
      "metadata": {
        "id": "73At2CWxFRg5"
      },
      "source": [
        "import json"
      ],
      "execution_count": null,
      "outputs": []
    },
    {
      "cell_type": "code",
      "metadata": {
        "id": "pUeuv1WpFRg5"
      },
      "source": [
        "# json 存檔\n",
        "data = requ.json()\n",
        "with open(r'/content/drive/MyDrive/PuiPui'+'/dcard_api.json', 'w', newline='') as jsonfile:\n",
        "    json.dump(data, jsonfile)"
      ],
      "execution_count": null,
      "outputs": []
    },
    {
      "cell_type": "markdown",
      "metadata": {
        "id": "Jl6Srt6PFRg6"
      },
      "source": [
        "## 看板實戰\n",
        "* 挑戰 puipui\n",
        "```GET https://www.dcard.tw/service/api/v2/forums/puipui/posts```"
      ]
    },
    {
      "cell_type": "code",
      "metadata": {
        "id": "taZbTCW5FRg6"
      },
      "source": [
        "url = 'https://www.dcard.tw/service/api/v2/forums/puipui/posts'\n",
        "\n",
        "res = requests.get(url, headers=headers)\n",
        "\n",
        "articles = res.json()"
      ],
      "execution_count": null,
      "outputs": []
    },
    {
      "cell_type": "code",
      "metadata": {
        "id": "n732BmHcFRg6",
        "colab": {
          "base_uri": "https://localhost:8080/"
        },
        "outputId": "161583e8-5995-4bbb-abf5-287d9666abfb"
      },
      "source": [
        "imgs = []\n",
        "for article in articles[:5]:\n",
        "    print('ID:', article['id'])\n",
        "    print('Title:', article['title'])\n",
        "    print('School:', article['school'])\n",
        "    print('media:', article['media'])\n",
        "    \n",
        "    print()"
      ],
      "execution_count": null,
      "outputs": [
        {
          "output_type": "stream",
          "text": [
            "ID: 235309104\n",
            "Title: 吃飽飽⋯\n",
            "School: 綺綺\n",
            "media: []\n",
            "\n",
            "ID: 235309020\n",
            "Title: 哈姆太郎版天竺鼠車車\n",
            "School: 夯薯好吃\n",
            "media: [{'url': 'https://i.imgur.com/s9QBDTe.jpg'}]\n",
            "\n",
            "ID: 235307571\n",
            "Title: 突然想到一個問題\n",
            "School: 國立高雄大學\n",
            "media: [{'url': 'https://i.imgur.com/O1pmAD2.jpg'}]\n",
            "\n",
            "ID: 235306988\n",
            "Title: PUI PUI 防疫\n",
            "School: 國立中央大學\n",
            "media: [{'url': 'https://i.imgur.com/lWXpHTj.jpg'}]\n",
            "\n",
            "ID: 235305829\n",
            "Title: 原來天竺鼠車車是這樣演的\n",
            "School: 匿名\n",
            "media: [{'url': 'https://i.imgur.com/Nu9qgGw.jpg'}, {'url': 'https://i.imgur.com/4AaR5nK.jpg'}, {'url': 'https://i.imgur.com/Le7Dhrs.jpg'}, {'url': 'https://i.imgur.com/ZmIbbpP.jpg'}, {'url': 'https://i.imgur.com/gKDZiDJ.jpg'}, {'url': 'https://i.imgur.com/aDKNVP8.jpg'}, {'url': 'https://i.imgur.com/tXM1O8g.jpg'}, {'url': 'https://i.imgur.com/0QOwFDe.jpg'}, {'url': 'https://i.imgur.com/cVKa4v7.jpg'}, {'url': 'https://vivid.dcard.tw/Public/95ec71f0-cf82-4e03-8eb5-2c70e469d3d3/thumbnail.jpg'}]\n",
            "\n"
          ],
          "name": "stdout"
        }
      ]
    },
    {
      "cell_type": "code",
      "metadata": {
        "colab": {
          "base_uri": "https://localhost:8080/"
        },
        "id": "l4kC7XQMFRg6",
        "outputId": "970d444a-1286-403a-dce4-924f892d34ec"
      },
      "source": [
        "## 下載圖檔\n",
        "img_links = []\n",
        "for article in articles:\n",
        "    if len(article['media']):\n",
        "        for img in article['media']:\n",
        "            img_links.append(img['url'])\n",
        "print('number of img:', len(img_links))"
      ],
      "execution_count": null,
      "outputs": [
        {
          "output_type": "stream",
          "text": [
            "number of img: 38\n"
          ],
          "name": "stdout"
        }
      ]
    },
    {
      "cell_type": "code",
      "metadata": {
        "colab": {
          "base_uri": "https://localhost:8080/"
        },
        "id": "mW_TualiFRg7",
        "outputId": "cc6302ff-b962-4dbc-fd63-82b3f3f3adaf"
      },
      "source": [
        "import os\n",
        "\n",
        "img_count = 0\n",
        "for img_link in img_links:\n",
        "    if not os.path.exists(r'/content/drive/MyDrive/PuiPui/puipui_image'):\n",
        "        os.makedirs(r'/content/drive/MyDrive/PuiPui/puipui_image')\n",
        "    \n",
        "    img = requests.get(img_link)\n",
        "    \n",
        "    with open(r'/content/drive/MyDrive/PuiPui/puipui_image'+\"/天竺鼠puipui_\"+str(img_count)+'.jpg', 'wb') as file:\n",
        "        file.write(img.content)\n",
        "    img_count += 1\n",
        "\n",
        "print(\"成功爬取\")"
      ],
      "execution_count": null,
      "outputs": [
        {
          "output_type": "stream",
          "text": [
            "成功爬取\n"
          ],
          "name": "stdout"
        }
      ]
    },
    {
      "cell_type": "code",
      "metadata": {
        "id": "UnQn0z86FRg8"
      },
      "source": [
        "import requests\r\n",
        "import re\r\n",
        "import os\r\n",
        "import json\r\n",
        "\r\n",
        "url = 'https://www.dcard.tw/service/api/v2/forums/puipui/posts'\r\n",
        "headers = {\r\n",
        "    'user-agent': 'Mozilla/5.0 (Windows NT 10.0; Win64; x64) AppleWebKit/537.36 (KHTML, like Gecko) Chrome/87.0.4280.141 Safari/537.36'\r\n",
        "}\r\n",
        "res = requests.get(url, headers=headers)\r\n",
        "articles = res.json()# json 格式\r\n",
        "\r\n",
        "if not os.path.exists(r'/content/drive/MyDrive/PuiPui/puipui_image'):\r\n",
        "  os.makedirs(r'/content/drive/MyDrive/PuiPui/puipui_image')\r\n",
        "\r\n",
        "# 下載圖檔\r\n",
        "img_count = 0\r\n",
        "for article in articles:\r\n",
        "  if len(article['media']):\r\n",
        "    for img in article['media']:\r\n",
        "      img = requests.get(img['url'])\r\n",
        "      with open(r'/content/drive/MyDrive/PuiPui/puipui_image'+\"/天竺鼠puipui_\"+str(img_count)+'.jpg', 'wb') as file:\r\n",
        "        file.write(img.content)\r\n",
        "      img_count += 1"
      ],
      "execution_count": null,
      "outputs": []
    }
  ]
}