{
  "nbformat": 4,
  "nbformat_minor": 0,
  "metadata": {
    "colab": {
      "name": "python_basic.ipynb",
      "provenance": [],
      "authorship_tag": "ABX9TyMsCURxTpWlx3jvPbXzcBet",
      "include_colab_link": true
    },
    "kernelspec": {
      "name": "python3",
      "display_name": "Python 3"
    }
  },
  "cells": [
    {
      "cell_type": "markdown",
      "metadata": {
        "id": "view-in-github",
        "colab_type": "text"
      },
      "source": [
        "<a href=\"https://colab.research.google.com/github/LIAO-JIAN-PENG/python_lecture/blob/main/python_basic.ipynb\" target=\"_parent\"><img src=\"https://colab.research.google.com/assets/colab-badge.svg\" alt=\"Open In Colab\"/></a>"
      ]
    },
    {
      "cell_type": "markdown",
      "metadata": {
        "id": "1zdIDtbfDHgi"
      },
      "source": [
        "# 數字變數\r\n"
      ]
    },
    {
      "cell_type": "code",
      "metadata": {
        "id": "KJXSF1GU1qxv",
        "colab": {
          "base_uri": "https://localhost:8080/"
        },
        "outputId": "33a81abc-fb04-49d1-cbf6-cc2a71d4dba3"
      },
      "source": [
        "# 數字運算\r\n",
        "2+5"
      ],
      "execution_count": null,
      "outputs": [
        {
          "output_type": "execute_result",
          "data": {
            "text/plain": [
              "7"
            ]
          },
          "metadata": {
            "tags": []
          },
          "execution_count": 1
        }
      ]
    },
    {
      "cell_type": "code",
      "metadata": {
        "colab": {
          "base_uri": "https://localhost:8080/"
        },
        "id": "0IU_bsdU2EYl",
        "outputId": "d415ee91-9b8a-4dc5-fdf8-b64b287b95fc"
      },
      "source": [
        "# 變數宣告及定義\r\n",
        "x = 2\r\n",
        "x + 5 # 運算"
      ],
      "execution_count": null,
      "outputs": [
        {
          "output_type": "execute_result",
          "data": {
            "text/plain": [
              "7"
            ]
          },
          "metadata": {
            "tags": []
          },
          "execution_count": 2
        }
      ]
    },
    {
      "cell_type": "code",
      "metadata": {
        "colab": {
          "base_uri": "https://localhost:8080/"
        },
        "id": "Xz1uZ1de2JTn",
        "outputId": "9da00db6-8d69-430a-b752-8d90001d9ae5"
      },
      "source": [
        "# 加減乘除餘\r\n",
        "x = 14\r\n",
        "print(\"x =\", x)\r\n",
        "print(\"x + 2  =\", x + 2)\r\n",
        "print(\"x - 4  =\", x - 4)\r\n",
        "print(\"x * 2  =\", x * 2)\r\n",
        "print(\"x / 3  =\", x / 3)  # 小數除法\r\n",
        "print(\"x // 5 =\", x // 3) # 無條件捨去\r\n",
        "print(\"x % 3  =\", x % 3)  # 餘數"
      ],
      "execution_count": null,
      "outputs": [
        {
          "output_type": "stream",
          "text": [
            "x = 14\n",
            "x + 2  = 16\n",
            "x - 4  = 10\n",
            "x * 2  = 28\n",
            "x / 3  = 4.666666666666667\n",
            "x // 5 = 4\n",
            "x % 3  = 2\n"
          ],
          "name": "stdout"
        }
      ]
    },
    {
      "cell_type": "markdown",
      "metadata": {
        "id": "4WWUfPboDZ5N"
      },
      "source": [
        "# 資料型態\r\n",
        "* 整數\r\n",
        "* 小數\r\n",
        "* 布林值\r\n",
        "* 字串"
      ]
    },
    {
      "cell_type": "code",
      "metadata": {
        "id": "-fRP1ACJ3ciG"
      },
      "source": [
        "# 資料型態\r\n",
        "integer = 10            # 整數\r\n",
        "float_num = 12.4        # 小數\r\n",
        "booling = True          # 布林值\r\n",
        "string = 'I am string.' # 字串\r\n",
        "# string = \"I am string.\""
      ],
      "execution_count": null,
      "outputs": []
    },
    {
      "cell_type": "code",
      "metadata": {
        "colab": {
          "base_uri": "https://localhost:8080/"
        },
        "id": "RXbsAe8UDfTL",
        "outputId": "03623d51-d642-440a-8062-65771be8919a"
      },
      "source": [
        "# 強制轉型\r\n",
        "print(int('12'))\r\n",
        "print(float('2.5'))\r\n",
        "print(str(12))\r\n",
        "print(str(12.5))"
      ],
      "execution_count": null,
      "outputs": [
        {
          "output_type": "stream",
          "text": [
            "12\n",
            "2.5\n",
            "12\n",
            "12.5\n"
          ],
          "name": "stdout"
        }
      ]
    },
    {
      "cell_type": "markdown",
      "metadata": {
        "id": "tU7KflwuGF9w"
      },
      "source": [
        "# 輸出"
      ]
    },
    {
      "cell_type": "code",
      "metadata": {
        "colab": {
          "base_uri": "https://localhost:8080/"
        },
        "id": "p4HY5ckD43_t",
        "outputId": "1444153c-ab4f-470c-efff-64011dbebf1a"
      },
      "source": [
        "# 輸出 print\r\n",
        "print(2)\r\n",
        "print(2.0)\r\n",
        "print(\"output\")\r\n",
        "print(True)"
      ],
      "execution_count": null,
      "outputs": [
        {
          "output_type": "stream",
          "text": [
            "2\n",
            "2.0\n",
            "output\n",
            "True\n"
          ],
          "name": "stdout"
        }
      ]
    },
    {
      "cell_type": "code",
      "metadata": {
        "colab": {
          "base_uri": "https://localhost:8080/"
        },
        "id": "0tqYEPVD5FQ6",
        "outputId": "5b10617b-2383-4c18-8d83-9060f803746e"
      },
      "source": [
        "# 輸出方式\r\n",
        "fruit = 'apple'\r\n",
        "print('A is ' + fruit)  # 接上去\r\n",
        "print('num is ' + str(2)) # str 強制轉型\r\n",
        "print('A is', fruit)    # 尾部有空白"
      ],
      "execution_count": null,
      "outputs": [
        {
          "output_type": "stream",
          "text": [
            "A is apple\n",
            "num is2\n",
            "A is apple\n"
          ],
          "name": "stdout"
        }
      ]
    },
    {
      "cell_type": "code",
      "metadata": {
        "colab": {
          "base_uri": "https://localhost:8080/"
        },
        "id": "IvYmpX6M5kvV",
        "outputId": "b88b7b94-50d6-439c-b1f5-f55c516533c7"
      },
      "source": [
        "# 字串\r\n",
        "animal = 'pig'\r\n",
        "# 字串相接\r\n",
        "animals = animal + 's'\r\n",
        "print(animal, animals, animal+'s')\r\n",
        "print(\"=\"*20)\r\n",
        "\r\n",
        "ch = '*'\r\n",
        "# 字串倍增\r\n",
        "print(ch)\r\n",
        "print(ch*10)\r\n",
        "print(\"=\"*20)\r\n",
        "\r\n",
        "# 字串取字\r\n",
        "game = 'mario'\r\n",
        "print(game[1])\r\n",
        "print(game[0])\r\n",
        "print(\"=\"*20)\r\n",
        "\r\n",
        "# 字串切割\r\n",
        "country = 'Taiwan'\r\n",
        "print(country)\r\n",
        "print(country[1:5]) # 從 1 ~ 4 的字"
      ],
      "execution_count": null,
      "outputs": [
        {
          "output_type": "stream",
          "text": [
            "pig pigs pigs\n",
            "====================\n",
            "*\n",
            "**********\n",
            "====================\n",
            "a\n",
            "m\n",
            "====================\n",
            "Taiwan\n",
            "aiwa\n"
          ],
          "name": "stdout"
        }
      ]
    },
    {
      "cell_type": "markdown",
      "metadata": {
        "id": "7PeiLIDRKP5Q"
      },
      "source": [
        "# List 串列 "
      ]
    },
    {
      "cell_type": "code",
      "metadata": {
        "colab": {
          "base_uri": "https://localhost:8080/"
        },
        "id": "aeNysYmr3V7y",
        "outputId": "ad0f51dd-471b-430e-9782-3a41361dc024"
      },
      "source": [
        "# list 串列\r\n",
        "# 初始 list\r\n",
        "new_list = []\r\n",
        "\r\n",
        "nums = [1,2,3,4,5]            # 都只能放整數\r\n",
        "names = ['Adam','Ben','Denny']# 都只能放字串\r\n",
        "floats = [1.4,1.8,1.6,13.4]   # 都只能放小數\r\n",
        "\r\n",
        "print(\"=\"*30)\r\n",
        "print(nums)\r\n",
        "print(names)\r\n",
        "print(floats)"
      ],
      "execution_count": null,
      "outputs": [
        {
          "output_type": "stream",
          "text": [
            "==============================\n",
            "[1, 2, 3, 4, 5]\n",
            "['Adam', 'Ben', 'Denny']\n",
            "[1.4, 1.8, 1.6, 13.4]\n"
          ],
          "name": "stdout"
        }
      ]
    },
    {
      "cell_type": "code",
      "metadata": {
        "colab": {
          "base_uri": "https://localhost:8080/"
        },
        "id": "nz5-8yg3LfGD",
        "outputId": "50a0d0c3-79ce-486c-f31f-88483617e7da"
      },
      "source": [
        "# 串接\r\n",
        "add_list = []\r\n",
        "add_list.append(1)\r\n",
        "add_list.append(2)\r\n",
        "add_list.append(3)\r\n",
        "add_list"
      ],
      "execution_count": null,
      "outputs": [
        {
          "output_type": "execute_result",
          "data": {
            "text/plain": [
              "[1, 2, 3]"
            ]
          },
          "metadata": {
            "tags": []
          },
          "execution_count": 4
        }
      ]
    },
    {
      "cell_type": "markdown",
      "metadata": {
        "id": "9nbX9jSIKVgW"
      },
      "source": [
        "# 字典 dictionary\r\n",
        "* dict_name['key'] = value"
      ]
    },
    {
      "cell_type": "code",
      "metadata": {
        "colab": {
          "base_uri": "https://localhost:8080/"
        },
        "id": "Y_qoDERe2uo-",
        "outputId": "42eac56c-5591-4004-f578-0537ee8654cf"
      },
      "source": [
        "dic = {}\r\n",
        "# 新增 key & value\r\n",
        "dic['a'] = 10\r\n",
        "dic['b'] = 20\r\n",
        "dic['c'] = 30\r\n",
        "print(dic)\r\n",
        "print(dic['a'])\r\n",
        "print(dic['b'])\r\n",
        "print(dic['c'])"
      ],
      "execution_count": null,
      "outputs": [
        {
          "output_type": "stream",
          "text": [
            "{'a': 10, 'b': 20, 'c': 30}\n",
            "10\n",
            "20\n",
            "30\n"
          ],
          "name": "stdout"
        }
      ]
    },
    {
      "cell_type": "markdown",
      "metadata": {
        "id": "yw9dgQ1FKn5n"
      },
      "source": [
        "# 條件式判斷 if / else"
      ]
    },
    {
      "cell_type": "code",
      "metadata": {
        "colab": {
          "base_uri": "https://localhost:8080/"
        },
        "id": "4NAmxsiXAzqf",
        "outputId": "404b0e72-fa1c-4dc8-92e4-9bba5a1607e3"
      },
      "source": [
        "x = 10\r\n",
        "if x > 20:\r\n",
        "  print(\"x > 20\")\r\n",
        "elif x > 10:\r\n",
        "  print(\"20 >= x > 10\")\r\n",
        "else:\r\n",
        "  print(\"x <= 10\")"
      ],
      "execution_count": null,
      "outputs": [
        {
          "output_type": "stream",
          "text": [
            "<= 10\n"
          ],
          "name": "stdout"
        }
      ]
    },
    {
      "cell_type": "markdown",
      "metadata": {
        "id": "m6zhsG_2KfFd"
      },
      "source": [
        "# 迴圈"
      ]
    },
    {
      "cell_type": "code",
      "metadata": {
        "colab": {
          "base_uri": "https://localhost:8080/"
        },
        "id": "lQdUG1tm-qEo",
        "outputId": "9af47cea-16ba-4e20-b604-a570628c4a39"
      },
      "source": [
        "# 迴圈\r\n",
        "for i in range(10):\r\n",
        "  print(i, end=' ')\r\n",
        "print()\r\n",
        "name = 'name'\r\n",
        "for ch in name:\r\n",
        "  print(ch, end=' ')\r\n",
        "print()\r\n",
        "for i in range(len(name)):\r\n",
        "  print(name[i], end=' ')\r\n",
        "print()\r\n",
        "nums = [10,20,30,40]\r\n",
        "for i in range(len(nums)):\r\n",
        "  print(nums[i], end=' ')\r\n",
        "print()"
      ],
      "execution_count": null,
      "outputs": [
        {
          "output_type": "stream",
          "text": [
            "0 1 2 3 4 5 6 7 8 9 \n",
            "n a m e \n",
            "n a m e \n",
            "10 20 30 40 \n"
          ],
          "name": "stdout"
        }
      ]
    },
    {
      "cell_type": "markdown",
      "metadata": {
        "id": "bt_UtzFvKzJR"
      },
      "source": [
        "# 函式"
      ]
    },
    {
      "cell_type": "code",
      "metadata": {
        "colab": {
          "base_uri": "https://localhost:8080/"
        },
        "id": "EkweHPYl_Kpt",
        "outputId": "cdd72eb6-2e85-46b6-ebba-f16c3842685e"
      },
      "source": [
        "def add(a, b):\r\n",
        "  return a + b\r\n",
        "\r\n",
        "c = add(10, 12)\r\n",
        "print(c)\r\n",
        "\r\n",
        "d = add(a = 10, b = 5)\r\n",
        "print(d)"
      ],
      "execution_count": null,
      "outputs": [
        {
          "output_type": "stream",
          "text": [
            "22\n",
            "15\n"
          ],
          "name": "stdout"
        }
      ]
    },
    {
      "cell_type": "markdown",
      "metadata": {
        "id": "UpWAS5g7BQLm"
      },
      "source": [
        "# 基本上只有這些是不夠的，可以自行去學習更多Python語法\r\n",
        "* 如果遇到看不懂或不理解的第如果遇到看不懂或不理解的地方，請去Google"
      ]
    },
    {
      "cell_type": "code",
      "metadata": {
        "id": "cMZAQJ3fNSpU"
      },
      "source": [
        ""
      ],
      "execution_count": null,
      "outputs": []
    }
  ]
}