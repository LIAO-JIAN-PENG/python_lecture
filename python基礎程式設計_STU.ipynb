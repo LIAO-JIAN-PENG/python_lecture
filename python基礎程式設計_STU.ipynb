{
  "cells": [
    {
      "cell_type": "markdown",
      "metadata": {
        "id": "view-in-github",
        "colab_type": "text"
      },
      "source": [
        "<a href=\"https://colab.research.google.com/github/LIAO-JIAN-PENG/python_lecture/blob/main/python%E5%9F%BA%E7%A4%8E%E7%A8%8B%E5%BC%8F%E8%A8%AD%E8%A8%88_STU.ipynb\" target=\"_parent\"><img src=\"https://colab.research.google.com/assets/colab-badge.svg\" alt=\"Open In Colab\"/></a>"
      ]
    },
    {
      "cell_type": "markdown",
      "id": "6c61f6a1-a4bf-48af-8bee-f63f0eb4572a",
      "metadata": {
        "id": "6c61f6a1-a4bf-48af-8bee-f63f0eb4572a"
      },
      "source": [
        "# Python基礎程式設計\n",
        "* 快速導覽版"
      ]
    },
    {
      "cell_type": "markdown",
      "id": "c4469714-0e38-4cd5-a429-5454ca96d241",
      "metadata": {
        "id": "c4469714-0e38-4cd5-a429-5454ca96d241"
      },
      "source": [
        "## 變數\n",
        "* python 變數宣告  \n",
        "`變數名稱` = `變數的數值`  \n",
        "\n",
        "---\n",
        "* 在 c 語言中有  \n",
        "    * int(整數)  \n",
        "    * long long(長整數)\n",
        "    * float(浮點數)  \n",
        "    * double(雙精度浮點數)\n",
        "* c 語言宣告  \n",
        "`變數型態` `變數名稱` = `變數的數值`;  \n",
        "\n",
        "* 在 python 中會自動判別變數的數值型態"
      ]
    },
    {
      "cell_type": "code",
      "execution_count": null,
      "id": "e1dd8957-537c-42b3-86be-bbe4e6154dbe",
      "metadata": {
        "id": "e1dd8957-537c-42b3-86be-bbe4e6154dbe"
      },
      "outputs": [],
      "source": [
        "a = 10\n",
        "b = 5"
      ]
    },
    {
      "cell_type": "code",
      "execution_count": null,
      "id": "273d4bd0-6caf-4afa-8a65-383db8152d9f",
      "metadata": {
        "id": "273d4bd0-6caf-4afa-8a65-383db8152d9f"
      },
      "outputs": [],
      "source": [
        "# 變數的算數\n",
        "a + 5"
      ]
    },
    {
      "cell_type": "code",
      "execution_count": null,
      "id": "e3e43a19-7ce9-413b-92c3-17124de19467",
      "metadata": {
        "id": "e3e43a19-7ce9-413b-92c3-17124de19467"
      },
      "outputs": [],
      "source": [
        "# 常見運算子 + - * / %\n",
        "# 在 c 語言中為 printf(\"%d\", a);\n",
        "print(a * 5)\n",
        "print(b / 2)  # 小數除法\n",
        "print(b // 2) # 整除\n",
        "print(a % 7)  # 取餘數\n",
        "print(a ** 2) # 平方\n",
        "print(a ** 0.5) # 開根號"
      ]
    },
    {
      "cell_type": "markdown",
      "id": "345c0b6a-1719-45d4-aead-5dc2ece6fcbc",
      "metadata": {
        "id": "345c0b6a-1719-45d4-aead-5dc2ece6fcbc"
      },
      "source": [
        "## 如果你覺得很納悶 \"型態\" 去哪了 ??\n",
        "你可以輸入 `type()`"
      ]
    },
    {
      "cell_type": "code",
      "execution_count": null,
      "id": "95e08a4a-a984-4aec-a0c6-290b2aeb7fda",
      "metadata": {
        "id": "95e08a4a-a984-4aec-a0c6-290b2aeb7fda"
      },
      "outputs": [],
      "source": [
        "# 來看看 a, b 的型態\n",
        "print(type(a))\n",
        "print(type(b))"
      ]
    },
    {
      "cell_type": "markdown",
      "id": "3a28c837-8509-49bc-9c78-d904b906eb08",
      "metadata": {
        "id": "3a28c837-8509-49bc-9c78-d904b906eb08"
      },
      "source": [
        "## 標準輸入輸出\n",
        "* `print()` : 輸出括弧內的內容\n",
        "* `input()` : 輸入使用者的字串\n",
        "---\n",
        "提醒: 不管在輸出或輸入都是使用字串"
      ]
    },
    {
      "cell_type": "markdown",
      "id": "d729fc27-21db-4fbc-b709-1ff91f9e3271",
      "metadata": {
        "id": "d729fc27-21db-4fbc-b709-1ff91f9e3271"
      },
      "source": [
        "## 字串簡介\n",
        "* 在 c 中  \n",
        "我們會強調 `\" \"` 為字串，`' '` 為字元  \n",
        "* 在 python 中\n",
        "不管 `\" \"` , `' '` 都表示字串"
      ]
    },
    {
      "cell_type": "code",
      "execution_count": null,
      "id": "6a317ea8-b57b-473c-ab3e-8e0677d6ccc1",
      "metadata": {
        "id": "6a317ea8-b57b-473c-ab3e-8e0677d6ccc1"
      },
      "outputs": [],
      "source": [
        "# 輸出 print\n",
        "# 與 c 的差別在於 print會在結尾幫我們加上 '\\n' (這是自動的)\n",
        "print(\"This is an apple\")\n",
        "print(\"This is a pineapple\")"
      ]
    },
    {
      "cell_type": "code",
      "execution_count": null,
      "id": "60b3f437-e0d8-4f78-824a-5735d53e3141",
      "metadata": {
        "id": "60b3f437-e0d8-4f78-824a-5735d53e3141"
      },
      "outputs": [],
      "source": [
        "# 混和輸出\n",
        "# 我們使用 + 來連接兩個字串\n",
        "# 當我們將變數(a)與字串放在一起\n",
        "# 因為說過輸出輸入都是字串，所以必需轉變型態\n",
        "print(\"There are \" + a + \"apples\")"
      ]
    },
    {
      "cell_type": "code",
      "execution_count": null,
      "id": "a9eb0bc8-b9d3-4295-ae54-3b0233093ac8",
      "metadata": {
        "id": "a9eb0bc8-b9d3-4295-ae54-3b0233093ac8"
      },
      "outputs": [],
      "source": [
        "# str(): 將內容轉換成 string 字串型態\n",
        "print(\"There are \" + str(a) + \" apples\")"
      ]
    },
    {
      "cell_type": "code",
      "execution_count": null,
      "id": "2333d00f-3001-4578-ad8b-17a367f6c305",
      "metadata": {
        "id": "2333d00f-3001-4578-ad8b-17a367f6c305"
      },
      "outputs": [],
      "source": [
        "# 輸入 input\n",
        "# 在這邊直接把 input() 當成去接你輸入的東西\n",
        "count_of_apple = input()"
      ]
    },
    {
      "cell_type": "code",
      "execution_count": null,
      "id": "6ee118d0-2497-40e9-b3f2-34e607ecc2ec",
      "metadata": {
        "id": "6ee118d0-2497-40e9-b3f2-34e607ecc2ec"
      },
      "outputs": [],
      "source": [
        "# 印出 count_of_apple 型態\n",
        "# 發現是字串\n",
        "# 當你要做運算時會出錯\n",
        "print(count_of_apple)\n",
        "print(type(count_of_apple))"
      ]
    },
    {
      "cell_type": "code",
      "execution_count": null,
      "id": "89d18791-001d-4b8d-a843-477908e2bd04",
      "metadata": {
        "id": "89d18791-001d-4b8d-a843-477908e2bd04"
      },
      "outputs": [],
      "source": [
        "# 字串型態 加上 整數型態 出現衝突\n",
        "count_of_apple + 4"
      ]
    },
    {
      "cell_type": "code",
      "execution_count": null,
      "id": "a145d31b-3112-488c-b282-eba7a1a4f1bc",
      "metadata": {
        "id": "a145d31b-3112-488c-b282-eba7a1a4f1bc"
      },
      "outputs": [],
      "source": [
        "# 通常我們會先這樣做\n",
        "count_of_apple = int(input()) # 書上會寫 eval() 是一樣的效果"
      ]
    },
    {
      "cell_type": "code",
      "execution_count": null,
      "id": "9039e49f-8843-417b-b6f9-8fda869d6bb5",
      "metadata": {
        "id": "9039e49f-8843-417b-b6f9-8fda869d6bb5"
      },
      "outputs": [],
      "source": [
        "count_of_apple + 4"
      ]
    },
    {
      "cell_type": "markdown",
      "id": "467673dc-ce00-439a-ac51-5ad304a68400",
      "metadata": {
        "id": "467673dc-ce00-439a-ac51-5ad304a68400"
      },
      "source": [
        "## 條件式\n",
        "在條件式中有幾種邏輯運算子可以用  \n",
        "`==, > , <, <=, >=, !=`  \n",
        "* 在 c 中條件式\n",
        "    ```\n",
        "    if(a == 5){\n",
        "        printf(\"a is equal 5\");\n",
        "    }\n",
        "    else if(a > 0){\n",
        "        printf(\"a is not 5, but a is positive\");\n",
        "    }\n",
        "    else{\n",
        "        printf(\"a is negative\")\n",
        "    }\n",
        "    ```\n",
        "    * && 與 ||\n",
        "* 在 python 中條件式  \n",
        "    * 變成 if elif else\n",
        "    * and 與 or\n",
        "    * not 否定"
      ]
    },
    {
      "cell_type": "code",
      "execution_count": null,
      "id": "2460338d-a09f-4606-b5b3-de753fe82db7",
      "metadata": {
        "id": "2460338d-a09f-4606-b5b3-de753fe82db7"
      },
      "outputs": [],
      "source": [
        "if True:\n",
        "    print(True)\n",
        "else:\n",
        "    print(False)"
      ]
    },
    {
      "cell_type": "code",
      "execution_count": null,
      "id": "11e9df12-de77-4bc0-bd31-280fbad0ecda",
      "metadata": {
        "id": "11e9df12-de77-4bc0-bd31-280fbad0ecda"
      },
      "outputs": [],
      "source": [
        "a = 4\n",
        "a > 5"
      ]
    },
    {
      "cell_type": "code",
      "execution_count": null,
      "id": "d0351280-11e6-4e1b-ad00-ff6dda2de1a0",
      "metadata": {
        "id": "d0351280-11e6-4e1b-ad00-ff6dda2de1a0"
      },
      "outputs": [],
      "source": [
        "a = 17\n",
        "\n",
        "if a % 3 == 1:\n",
        "    print('a-1')\n",
        "elif a % 3 == 2:\n",
        "    print('a-2')\n",
        "else:\n",
        "    print('a-0')"
      ]
    },
    {
      "cell_type": "markdown",
      "id": "a550784e-021d-43c1-8908-e3d562e1925f",
      "metadata": {
        "id": "a550784e-021d-43c1-8908-e3d562e1925f"
      },
      "source": [
        "### 問題: 要求輸入變數 a 的值，請問落在 `a > 10`, `10 >= a > 5`, `5 >= a > 0`, `a is negative` "
      ]
    },
    {
      "cell_type": "markdown",
      "id": "ea1f1aec-4cec-47c3-8576-f5d96f81c885",
      "metadata": {
        "id": "ea1f1aec-4cec-47c3-8576-f5d96f81c885"
      },
      "source": [
        "## 引入函式庫\n",
        "* 在 c 中 `#include<stdlib.h>`  \n",
        "* 在 python `import random`  \n",
        "[random官方文件](https://docs.python.org/zh-tw/3/library/random.html)"
      ]
    },
    {
      "cell_type": "code",
      "execution_count": null,
      "id": "83c2fe46-78c5-445f-adcb-1dd68429efe4",
      "metadata": {
        "id": "83c2fe46-78c5-445f-adcb-1dd68429efe4"
      },
      "outputs": [],
      "source": [
        "import random"
      ]
    },
    {
      "cell_type": "code",
      "execution_count": null,
      "id": "ba69c408-fa18-4082-9d32-9b73f4a378af",
      "metadata": {
        "id": "ba69c408-fa18-4082-9d32-9b73f4a378af"
      },
      "outputs": [],
      "source": [
        "random.randint(1, 100)"
      ]
    },
    {
      "cell_type": "markdown",
      "id": "09402cd0-1fdc-404a-89d8-9a926c020b1b",
      "metadata": {
        "id": "09402cd0-1fdc-404a-89d8-9a926c020b1b"
      },
      "source": [
        "### 問題: 設計一次的終極密碼遊戲"
      ]
    },
    {
      "cell_type": "markdown",
      "id": "8b3c5927-1839-4d53-a2cb-97800653aaaa",
      "metadata": {
        "id": "8b3c5927-1839-4d53-a2cb-97800653aaaa"
      },
      "source": [
        "## List 串列\n",
        "* 在 c 中有比較熟悉的 array(陣列)  \n",
        "    可以想成一列火車車廂，一節接著一節\n",
        "    爾後資料結構會教有個東西較 linked list  \n",
        "* 在 python 中的 list 比較接近 linked list(但不等於)"
      ]
    },
    {
      "cell_type": "code",
      "execution_count": null,
      "id": "ffd7961a-daca-4661-bd4d-03ab0e3abf7b",
      "metadata": {
        "id": "ffd7961a-daca-4661-bd4d-03ab0e3abf7b"
      },
      "outputs": [],
      "source": [
        "# 串列宣告\n",
        "# 由中括號所包覆一串數列\n",
        "L = [1, 2, 4, 8, 4]"
      ]
    },
    {
      "cell_type": "code",
      "execution_count": null,
      "id": "e160e36b-434a-43c2-9c66-5b5457090505",
      "metadata": {
        "id": "e160e36b-434a-43c2-9c66-5b5457090505"
      },
      "outputs": [],
      "source": [
        "type(L)"
      ]
    },
    {
      "cell_type": "code",
      "execution_count": null,
      "id": "9537da76-90ec-461d-9540-4d5426003788",
      "metadata": {
        "id": "9537da76-90ec-461d-9540-4d5426003788"
      },
      "outputs": [],
      "source": [
        "# 印出其中元素\n",
        "L[0]"
      ]
    },
    {
      "cell_type": "code",
      "execution_count": null,
      "id": "2819417a-1bcc-4857-a983-4ec192320bcf",
      "metadata": {
        "id": "2819417a-1bcc-4857-a983-4ec192320bcf"
      },
      "outputs": [],
      "source": [
        "# 印出抹範圍中元素\n",
        "L[1:3]"
      ]
    },
    {
      "cell_type": "code",
      "execution_count": null,
      "id": "75d4ca48-afb1-4ca4-bd08-5c9a1b7df854",
      "metadata": {
        "id": "75d4ca48-afb1-4ca4-bd08-5c9a1b7df854"
      },
      "outputs": [],
      "source": [
        "# 如果指向負數(去掉負號由後往前算第幾個)\n",
        "L[-1]"
      ]
    },
    {
      "cell_type": "code",
      "execution_count": null,
      "id": "b05f1306-c385-4641-945a-e1de70a61bac",
      "metadata": {
        "id": "b05f1306-c385-4641-945a-e1de70a61bac"
      },
      "outputs": [],
      "source": [
        "# 串列相加(c 沒有不要亂用)\n",
        "L + L"
      ]
    },
    {
      "cell_type": "code",
      "execution_count": null,
      "id": "6bbe7400-e7af-488e-a56f-4115b7b74765",
      "metadata": {
        "id": "6bbe7400-e7af-488e-a56f-4115b7b74765"
      },
      "outputs": [],
      "source": [
        "# 串列乘法(倍數)\n",
        "L * 2"
      ]
    },
    {
      "cell_type": "code",
      "execution_count": null,
      "id": "c7a90768-5ec1-4ab2-887b-91cd0b5482e0",
      "metadata": {
        "id": "c7a90768-5ec1-4ab2-887b-91cd0b5482e0"
      },
      "outputs": [],
      "source": [
        "# 疊加元素\n",
        "L.append(99)\n",
        "print(L)"
      ]
    },
    {
      "cell_type": "code",
      "execution_count": null,
      "id": "233016cb-2577-4700-b720-e7af5dbe28ae",
      "metadata": {
        "id": "233016cb-2577-4700-b720-e7af5dbe28ae"
      },
      "outputs": [],
      "source": [
        "# 修改元素\n",
        "L[3]=14\n",
        "print(L)"
      ]
    },
    {
      "cell_type": "code",
      "execution_count": null,
      "id": "b0ca80ce-2906-4fab-bf1c-1f2d04fff488",
      "metadata": {
        "id": "b0ca80ce-2906-4fab-bf1c-1f2d04fff488"
      },
      "outputs": [],
      "source": [
        "# 移除元素\n",
        "L.pop()\n",
        "print(L)"
      ]
    },
    {
      "cell_type": "markdown",
      "id": "92ed272a-e8fe-4d61-a028-45e24eac49dc",
      "metadata": {
        "id": "92ed272a-e8fe-4d61-a028-45e24eac49dc"
      },
      "source": [
        "### 與串列很像的字串\n",
        "使用上面的方法取出字串中的元素"
      ]
    },
    {
      "cell_type": "code",
      "execution_count": null,
      "id": "480d3379-98f1-40a6-8f70-09e9367ff34f",
      "metadata": {
        "id": "480d3379-98f1-40a6-8f70-09e9367ff34f"
      },
      "outputs": [],
      "source": [
        "# 與串列很像的字串\n",
        "S = 'I have an apple juice.'\n",
        "print(S[0])"
      ]
    },
    {
      "cell_type": "code",
      "execution_count": null,
      "id": "e6cff072-e615-4ce5-b631-7e567b6eb36d",
      "metadata": {
        "id": "e6cff072-e615-4ce5-b631-7e567b6eb36d"
      },
      "outputs": [],
      "source": [
        "# 字串切割\n",
        "print(S[2:10])"
      ]
    },
    {
      "cell_type": "code",
      "execution_count": null,
      "id": "38474a33-c431-445d-9675-4821c90303b3",
      "metadata": {
        "id": "38474a33-c431-445d-9675-4821c90303b3"
      },
      "outputs": [],
      "source": [
        "# 字串相加\n",
        "S[0:-6] + \"pie.\""
      ]
    },
    {
      "cell_type": "code",
      "execution_count": null,
      "id": "5526e490-4144-4ff6-8eed-735921f249a8",
      "metadata": {
        "id": "5526e490-4144-4ff6-8eed-735921f249a8"
      },
      "outputs": [],
      "source": [
        "# 字串乘法(倍數)\n",
        "punishment = \"我之後不會上課偷睡覺\"\n",
        "# 抄寫 10 遍\n",
        "punishment * 10"
      ]
    },
    {
      "cell_type": "code",
      "execution_count": null,
      "id": "d9956ada-53ec-4dde-a4ea-8821f139ab3f",
      "metadata": {
        "id": "d9956ada-53ec-4dde-a4ea-8821f139ab3f"
      },
      "outputs": [],
      "source": [
        "# 互相轉換一下\n",
        "L = [1, 2, 4, 5, 6]\n",
        "S = \"ONE TWO THREE\"\n",
        "\n",
        "print(str(L))       # string type\n",
        "print(list(S))      # list type\n",
        "print(str(list(S))) # string type"
      ]
    },
    {
      "cell_type": "markdown",
      "id": "ef768de0-52a5-47f1-b007-92fb0f7c2c87",
      "metadata": {
        "id": "ef768de0-52a5-47f1-b007-92fb0f7c2c87"
      },
      "source": [
        "## 字串格式化\n",
        "* 很懷念 c 語言中的 %d, %c, %s  \n",
        "不想寫 + str()\n",
        "* 在 python 中使用 .format()"
      ]
    },
    {
      "cell_type": "code",
      "execution_count": null,
      "id": "bee4a655-9e25-4a9d-a245-27f108c3a459",
      "metadata": {
        "id": "bee4a655-9e25-4a9d-a245-27f108c3a459"
      },
      "outputs": [],
      "source": [
        "name = '王曉明'\n",
        "score = 45\n",
        "print(\"{}同學在比賽上拿到{}分的佳績\".format(name, score))"
      ]
    },
    {
      "cell_type": "code",
      "execution_count": null,
      "id": "750dd808-8443-46b3-b22f-d3eea8245ba5",
      "metadata": {
        "id": "750dd808-8443-46b3-b22f-d3eea8245ba5"
      },
      "outputs": [],
      "source": [
        "print(\"%s同學在比賽上拿到%d分的佳績\"%(name, score))"
      ]
    },
    {
      "cell_type": "code",
      "execution_count": null,
      "id": "9f74f38a-cc9b-46d7-99eb-6310b54b3478",
      "metadata": {
        "id": "9f74f38a-cc9b-46d7-99eb-6310b54b3478"
      },
      "outputs": [],
      "source": [
        "# 我還有其他方法順便介紹\n",
        "# 字串前面加上 f\n",
        "print(f\"{name}同學在比賽上拿到{score}分的佳績\")"
      ]
    },
    {
      "cell_type": "markdown",
      "id": "a0ac2afa-7cb0-431d-a479-0341fcd29d73",
      "metadata": {
        "id": "a0ac2afa-7cb0-431d-a479-0341fcd29d73"
      },
      "source": [
        "## 迴圈 \n",
        "### while\n",
        "* 括弧中放條件式  \n",
        "    條件式 : 如果目前條件==True則運行，一旦不符合則結束迴圈  \n",
        "    通常會在回圈內有控制因子，使得操縱迴圈結束  \n",
        "    常見錯誤 : 如果條件一直成立，則會掉入無窮迴圈  \n",
        "### for\n",
        "* 不用括弧\n",
        "    條件式 : 有些變形\n",
        "    通常使用到 in, range()"
      ]
    },
    {
      "cell_type": "code",
      "execution_count": null,
      "id": "495be5c8-bc57-4d13-83a4-cddd5cddd204",
      "metadata": {
        "id": "495be5c8-bc57-4d13-83a4-cddd5cddd204"
      },
      "outputs": [],
      "source": [
        "# while 迴圈\n",
        "# 終止條件 : 當條件式不成立\n",
        "times = 0\n",
        "while(times != 15):\n",
        "    print(times)\n",
        "    times += 1"
      ]
    },
    {
      "cell_type": "code",
      "execution_count": null,
      "id": "104e28f4-8e77-4fb3-9ec1-f25fdee0f171",
      "metadata": {
        "id": "104e28f4-8e77-4fb3-9ec1-f25fdee0f171"
      },
      "outputs": [],
      "source": [
        "# for 迴圈\n",
        "# 終止條件 : 我跑完整個串列\n",
        "# i, j, k 為常用迴圈代數\n",
        "L = [1,2,3,4,5,9]\n",
        "for i in L:\n",
        "    print(i)"
      ]
    },
    {
      "cell_type": "code",
      "execution_count": null,
      "id": "1c8617c9-ae3e-4f3c-bc8d-d316af9b786b",
      "metadata": {
        "id": "1c8617c9-ae3e-4f3c-bc8d-d316af9b786b"
      },
      "outputs": [],
      "source": [
        "# for 迴圈依序取出東西\n",
        "S = \"aeiou\"\n",
        "for i in [0,1,2,3,4]:\n",
        "    print(S[i])"
      ]
    },
    {
      "cell_type": "code",
      "execution_count": null,
      "id": "a10c531a-060f-4ee2-815b-0ecc5b95e352",
      "metadata": {
        "id": "a10c531a-060f-4ee2-815b-0ecc5b95e352"
      },
      "outputs": [],
      "source": [
        "# range(): 生成依序串列\n",
        "R = range(10)\n",
        "print(R, type(R))"
      ]
    },
    {
      "cell_type": "code",
      "execution_count": null,
      "id": "75e71b49-f307-46fe-a886-d1720826242d",
      "metadata": {
        "id": "75e71b49-f307-46fe-a886-d1720826242d"
      },
      "outputs": [],
      "source": [
        "print(list(R), type(list(R)))"
      ]
    },
    {
      "cell_type": "code",
      "execution_count": null,
      "id": "7fc0b807-1449-4ffa-a902-f98552ae9c1d",
      "metadata": {
        "id": "7fc0b807-1449-4ffa-a902-f98552ae9c1d"
      },
      "outputs": [],
      "source": [
        "# 使用range()生成依序串列\n",
        "for i in range(5):\n",
        "    print(i)"
      ]
    },
    {
      "cell_type": "code",
      "execution_count": null,
      "id": "73e37e65-646b-4603-8c01-9134c8dc0ddd",
      "metadata": {
        "id": "73e37e65-646b-4603-8c01-9134c8dc0ddd"
      },
      "outputs": [],
      "source": [
        "list(range(4, 10))"
      ]
    },
    {
      "cell_type": "code",
      "execution_count": null,
      "id": "d342855a-9989-4c22-a19a-61dae89ab6e2",
      "metadata": {
        "id": "d342855a-9989-4c22-a19a-61dae89ab6e2"
      },
      "outputs": [],
      "source": [
        "list(range(4, 10, 3))"
      ]
    },
    {
      "cell_type": "markdown",
      "id": "ecb72686-105d-437d-8aed-2021f9907480",
      "metadata": {
        "id": "ecb72686-105d-437d-8aed-2021f9907480"
      },
      "source": [
        "## 問題: 使用迴圈將上面的終極密碼直到答對為止"
      ]
    },
    {
      "cell_type": "markdown",
      "id": "cdd58429-dccf-49b2-8605-36302495c170",
      "metadata": {
        "id": "cdd58429-dccf-49b2-8605-36302495c170"
      },
      "source": [
        "## 問題: 請用迴圈印出三角形\n",
        "```\n",
        "    *\n",
        "   ***\n",
        "  *****\n",
        " *******\n",
        "*********\n",
        "```"
      ]
    },
    {
      "cell_type": "code",
      "execution_count": null,
      "id": "d2243127-cfd2-46b4-b2ba-7bdc28bccd38",
      "metadata": {
        "id": "d2243127-cfd2-46b4-b2ba-7bdc28bccd38"
      },
      "outputs": [],
      "source": [
        "# 想想看\n",
        "print('*'*3+' '+'-'*2)"
      ]
    },
    {
      "cell_type": "markdown",
      "id": "2a1b8bc2-dab9-4405-9729-2fc790e283dd",
      "metadata": {
        "id": "2a1b8bc2-dab9-4405-9729-2fc790e283dd"
      },
      "source": [
        "## 問題: 請給出一串列內容為\n",
        "`[1, 2, 4, 8, 16, 32, 64, 128, 256, 512, 1024, 2048, 4096, 8192, 16384]`"
      ]
    },
    {
      "cell_type": "markdown",
      "id": "d0dad90b-abbe-4354-bf2a-070c6e8f8825",
      "metadata": {
        "id": "d0dad90b-abbe-4354-bf2a-070c6e8f8825"
      },
      "source": [
        "## 問題: 給出一串列數字，請幫我求出鄰近兩點的中點位置，以串列表示\n",
        "* 例子: `[19, 20, 23, 101, 117, 132, 151, 181, 192, 199, 206, 292, 309, 318, 383]`  \n",
        "參考解答: `[19.5, 21.5, 62.0, 109.0, 124.5, 141.5, 166.0, 186.5, 195.5, 202.5, 249.0, 300.5, 313.5, 350.5]`"
      ]
    },
    {
      "cell_type": "code",
      "execution_count": null,
      "id": "4b092126-3326-447d-8ba2-dcc489e08d16",
      "metadata": {
        "id": "4b092126-3326-447d-8ba2-dcc489e08d16"
      },
      "outputs": [],
      "source": [
        "# len()\n",
        "L = [19, 20, 23, 101, 117, 132, 151, 181, 192, 199, 206, 292, 309, 318, 383]\n",
        "len(L)"
      ]
    },
    {
      "cell_type": "markdown",
      "id": "3a5ba284-8f01-49e3-bf53-fc5a098cb702",
      "metadata": {
        "id": "3a5ba284-8f01-49e3-bf53-fc5a098cb702"
      },
      "source": [
        "## 問題: 給出一個隨機數字的組成的串列"
      ]
    },
    {
      "cell_type": "markdown",
      "id": "e56e8d0c-cecd-40dd-a51d-9e8e5918cb4f",
      "metadata": {
        "id": "e56e8d0c-cecd-40dd-a51d-9e8e5918cb4f"
      },
      "source": [
        "## 字典 Dict\n",
        "* 在 c 中叫做 map\n",
        "* 在 python 教做 dict\n",
        "\n",
        "\n",
        "* 有兩個東西所組成 key, value  \n",
        "* key(鍵值): 表示我要取得value的標籤名稱  \n",
        "    key 可以是字串，數字\n",
        "* value(對映值): 我藉由拿到的key去得到相對映的對映值  \n",
        "    value 可以是字串，數字，串列，字典"
      ]
    },
    {
      "cell_type": "code",
      "execution_count": null,
      "id": "8e2975b3-9d7f-4036-9c3c-9963a83d5b8b",
      "metadata": {
        "id": "8e2975b3-9d7f-4036-9c3c-9963a83d5b8b"
      },
      "outputs": [],
      "source": [
        "# dict 字典\n",
        "D = {'a': 2,\n",
        "     'b': 3,\n",
        "     'c': 4,\n",
        "     8: 'C'}"
      ]
    },
    {
      "cell_type": "code",
      "execution_count": null,
      "id": "fa3c019f-dacf-4975-a986-644e59be1386",
      "metadata": {
        "id": "fa3c019f-dacf-4975-a986-644e59be1386"
      },
      "outputs": [],
      "source": [
        "print(D)"
      ]
    },
    {
      "cell_type": "code",
      "execution_count": null,
      "id": "41e85d28-7283-4600-94db-ef42173d147b",
      "metadata": {
        "id": "41e85d28-7283-4600-94db-ef42173d147b"
      },
      "outputs": [],
      "source": [
        "print(D[0])"
      ]
    },
    {
      "cell_type": "code",
      "execution_count": null,
      "id": "3b320d9b-e7aa-4cb2-be8b-e26d26f8b1cc",
      "metadata": {
        "id": "3b320d9b-e7aa-4cb2-be8b-e26d26f8b1cc"
      },
      "outputs": [],
      "source": [
        "print(D['a'])"
      ]
    },
    {
      "cell_type": "code",
      "execution_count": null,
      "id": "16e2f01a-2450-457f-a8f0-238cffe1547b",
      "metadata": {
        "id": "16e2f01a-2450-457f-a8f0-238cffe1547b"
      },
      "outputs": [],
      "source": [
        "print(D[8])"
      ]
    },
    {
      "cell_type": "code",
      "execution_count": null,
      "id": "b1808784-1f48-4d2d-9a62-0dcaf6a9a8bb",
      "metadata": {
        "id": "b1808784-1f48-4d2d-9a62-0dcaf6a9a8bb"
      },
      "outputs": [],
      "source": [
        "# 新增 dict 元素\n",
        "D['new'] = 20\n",
        "print(D)"
      ]
    },
    {
      "cell_type": "code",
      "execution_count": null,
      "id": "3dd92d07-2d88-4f63-ac6f-4f5ab5d70666",
      "metadata": {
        "id": "3dd92d07-2d88-4f63-ac6f-4f5ab5d70666"
      },
      "outputs": [],
      "source": [
        "# 修改 dict 元素\n",
        "D['new'] = 18\n",
        "print(D)"
      ]
    },
    {
      "cell_type": "code",
      "execution_count": null,
      "id": "933df90b-06b7-4d41-ad52-59591677a5d2",
      "metadata": {
        "id": "933df90b-06b7-4d41-ad52-59591677a5d2"
      },
      "outputs": [],
      "source": [
        "# 移除 dict 元素\n",
        "d_new = D.pop('new')\n",
        "print(D, d_new)"
      ]
    },
    {
      "cell_type": "code",
      "execution_count": null,
      "id": "717b33fa-e4de-415d-937f-e666921e5e75",
      "metadata": {
        "id": "717b33fa-e4de-415d-937f-e666921e5e75"
      },
      "outputs": [],
      "source": [
        "# 使用迴圈\n",
        "for d in D:\n",
        "    print(d) # 印出 key 值"
      ]
    },
    {
      "cell_type": "code",
      "execution_count": null,
      "id": "3d58a03d-ccf9-4055-8bf8-859ece7763d2",
      "metadata": {
        "id": "3d58a03d-ccf9-4055-8bf8-859ece7763d2"
      },
      "outputs": [],
      "source": [
        "# 印出元素\n",
        "for d in D:\n",
        "    print(f'D[{d}]={D[d]}')"
      ]
    },
    {
      "cell_type": "markdown",
      "id": "d4c72acd-9a33-42d5-9959-f728690cf568",
      "metadata": {
        "id": "d4c72acd-9a33-42d5-9959-f728690cf568"
      },
      "source": [
        "## 問題: 有一個英文句子，幫我整理所使用到的字元個數\n",
        "* 例子: S = \"With great power, comes great responsibility.\"  \n",
        "`{'w': 2,\n",
        " 'i': 4,\n",
        " 't': 4,\n",
        " 'h': 1,\n",
        " ' ': 5,\n",
        " 'g': 2,\n",
        " 'r': 4,\n",
        " 'e': 5,\n",
        " 'a': 2,\n",
        " 'p': 2,\n",
        " 'o': 3,\n",
        " ',': 1,\n",
        " 'c': 1,\n",
        " 'm': 1,\n",
        " 's': 3,\n",
        " 'n': 1,\n",
        " 'b': 1,\n",
        " 'l': 1,\n",
        " 'y': 1,\n",
        " '.': 1}`"
      ]
    },
    {
      "cell_type": "markdown",
      "id": "df4fe2b7-363e-4fc1-ac64-61c87b4b7982",
      "metadata": {
        "id": "df4fe2b7-363e-4fc1-ac64-61c87b4b7982"
      },
      "source": [
        "## 問題: 有一個英文句子，幫我整理所使用到的字元位置資訊以字典(dict)方式呈現\n",
        "* 例子: S = \"With great power, comes great responsibility.\"  \n",
        "`\n",
        "{'w': [0, 13],\n",
        " 'i': [1, 37, 39, 41],\n",
        " 't': [2, 9, 28, 42],\n",
        " 'h': [3],\n",
        " ' ': [4, 10, 17, 23, 29],\n",
        " 'g': [5, 24],\n",
        " 'r': [6, 15, 25, 30],\n",
        " 'e': [7, 14, 21, 26, 31],\n",
        " 'a': [8, 27],\n",
        " 'p': [11, 33],\n",
        " 'o': [12, 19, 34],\n",
        " ',': [16],\n",
        " 'c': [18],\n",
        " 'm': [20],\n",
        " 's': [22, 32, 36],\n",
        " 'n': [35],\n",
        " 'b': [38],\n",
        " 'l': [40],\n",
        " 'y': [43],\n",
        " '.': [44]}\n",
        "`"
      ]
    },
    {
      "cell_type": "markdown",
      "id": "32335c87-f83f-4a58-8c3a-ad70c534917b",
      "metadata": {
        "id": "32335c87-f83f-4a58-8c3a-ad70c534917b"
      },
      "source": [
        "## 函式\n",
        "* 在 c 語言中:  \n",
        "    回傳型態 函式名稱 參數型態 參數名稱 回傳值\n",
        "    ```\n",
        "    int func(int a, int b){\n",
        "        return a + b;\n",
        "    };\n",
        "    ```\n",
        "* 在 python 中:  \n",
        "    會自動處裡型態，不需額為表示，但不代表不會出現型態衝突\n",
        "    ```\n",
        "    def func(a, b):\n",
        "        return a + b\n",
        "    ```"
      ]
    },
    {
      "cell_type": "code",
      "execution_count": null,
      "id": "4c7dfa76-cbb6-40f4-98d5-62c6ca6bdad1",
      "metadata": {
        "id": "4c7dfa76-cbb6-40f4-98d5-62c6ca6bdad1"
      },
      "outputs": [],
      "source": [
        "def add(a, b):\n",
        "    return a + b"
      ]
    },
    {
      "cell_type": "code",
      "execution_count": null,
      "id": "6964ca43-ac26-4dda-b97e-d258262371dc",
      "metadata": {
        "id": "6964ca43-ac26-4dda-b97e-d258262371dc"
      },
      "outputs": [],
      "source": [
        "def list_1_to_n(n):\n",
        "    L = []\n",
        "    for i in range(10):\n",
        "        L.append(i)\n",
        "    return L"
      ]
    },
    {
      "cell_type": "code",
      "execution_count": null,
      "id": "0cf58004-a7cf-4bd8-8ba8-5b35a32ef2a7",
      "metadata": {
        "id": "0cf58004-a7cf-4bd8-8ba8-5b35a32ef2a7"
      },
      "outputs": [],
      "source": [
        "def show_hello():\n",
        "    print(\"hello\")"
      ]
    },
    {
      "cell_type": "code",
      "execution_count": null,
      "id": "39955cf2-6fc3-4179-9758-1fcd1cfa1a01",
      "metadata": {
        "id": "39955cf2-6fc3-4179-9758-1fcd1cfa1a01"
      },
      "outputs": [],
      "source": [
        "# 給預設值\n",
        "def add(a, b=0):\n",
        "    return a + b"
      ]
    },
    {
      "cell_type": "code",
      "execution_count": null,
      "id": "f0480eb8-2686-4ee2-825c-8172fb055020",
      "metadata": {
        "id": "f0480eb8-2686-4ee2-825c-8172fb055020"
      },
      "outputs": [],
      "source": [
        "# 給預設值\n",
        "# 如果是前面參數有預設值，當使用時只給一個數字，後面的參數就會沒東西\n",
        "def add(a=1, b):\n",
        "    return a + b"
      ]
    },
    {
      "cell_type": "code",
      "execution_count": null,
      "id": "b696de02-6fcf-4b2d-a990-15e0dac21f69",
      "metadata": {
        "id": "b696de02-6fcf-4b2d-a990-15e0dac21f69"
      },
      "outputs": [],
      "source": [
        ""
      ]
    }
  ],
  "metadata": {
    "kernelspec": {
      "display_name": "Python 3",
      "language": "python",
      "name": "python3"
    },
    "language_info": {
      "codemirror_mode": {
        "name": "ipython",
        "version": 3
      },
      "file_extension": ".py",
      "mimetype": "text/x-python",
      "name": "python",
      "nbconvert_exporter": "python",
      "pygments_lexer": "ipython3",
      "version": "3.8.8"
    },
    "colab": {
      "name": "python基礎程式設計-STU.ipynb",
      "provenance": [],
      "include_colab_link": true
    }
  },
  "nbformat": 4,
  "nbformat_minor": 5
}